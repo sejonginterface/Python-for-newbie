{
  "nbformat": 4,
  "nbformat_minor": 0,
  "metadata": {
    "colab": {
      "name": "functions.ipynb",
      "provenance": [],
      "collapsed_sections": []
    },
    "kernelspec": {
      "name": "python3",
      "display_name": "Python 3"
    },
    "language_info": {
      "name": "python"
    }
  },
  "cells": [
    {
      "cell_type": "markdown",
      "metadata": {
        "id": "RVALaFwF4W-b"
      },
      "source": [
        "# Built-in 함수"
      ]
    },
    {
      "cell_type": "code",
      "metadata": {
        "colab": {
          "base_uri": "https://localhost:8080/"
        },
        "id": "CtgQo3-M4SjE",
        "outputId": "bd74d099-de51-4071-aa03-f161201f2c27"
      },
      "source": [
        "help(print)"
      ],
      "execution_count": null,
      "outputs": [
        {
          "output_type": "stream",
          "text": [
            "Help on built-in function print in module builtins:\n",
            "\n",
            "print(...)\n",
            "    print(value, ..., sep=' ', end='\\n', file=sys.stdout, flush=False)\n",
            "    \n",
            "    Prints the values to a stream, or to sys.stdout by default.\n",
            "    Optional keyword arguments:\n",
            "    file:  a file-like object (stream); defaults to the current sys.stdout.\n",
            "    sep:   string inserted between values, default a space.\n",
            "    end:   string appended after the last value, default a newline.\n",
            "    flush: whether to forcibly flush the stream.\n",
            "\n"
          ],
          "name": "stdout"
        }
      ]
    },
    {
      "cell_type": "code",
      "metadata": {
        "colab": {
          "base_uri": "https://localhost:8080/"
        },
        "id": "CyPr21Ad4dWR",
        "outputId": "6e24297f-1f6b-462f-9afa-a77f8266f803"
      },
      "source": [
        "help(sum)"
      ],
      "execution_count": null,
      "outputs": [
        {
          "output_type": "stream",
          "text": [
            "Help on built-in function sum in module builtins:\n",
            "\n",
            "sum(iterable, start=0, /)\n",
            "    Return the sum of a 'start' value (default: 0) plus an iterable of numbers\n",
            "    \n",
            "    When the iterable is empty, return the start value.\n",
            "    This function is intended specifically for use with numeric values and may\n",
            "    reject non-numeric types.\n",
            "\n"
          ],
          "name": "stdout"
        }
      ]
    },
    {
      "cell_type": "markdown",
      "metadata": {
        "id": "taQrBTe-4gjl"
      },
      "source": [
        "# Module 함수\n"
      ]
    },
    {
      "cell_type": "code",
      "metadata": {
        "colab": {
          "base_uri": "https://localhost:8080/"
        },
        "id": "-3PKjcAw4k11",
        "outputId": "a3a68afa-9cbd-4974-e6d5-8cc70f245c8c"
      },
      "source": [
        "import random\n",
        "print(random.randint(1,5))\n",
        "print(random.randint(1,5))\n",
        "print(random.randint(1,5))"
      ],
      "execution_count": null,
      "outputs": [
        {
          "output_type": "stream",
          "text": [
            "4\n",
            "1\n",
            "3\n"
          ],
          "name": "stdout"
        }
      ]
    },
    {
      "cell_type": "code",
      "metadata": {
        "colab": {
          "base_uri": "https://localhost:8080/"
        },
        "id": "_FywkL_B455Y",
        "outputId": "1febc29e-29cf-4aea-d890-25cbbeb7ca2b"
      },
      "source": [
        "help(random.randint) # a 이상 b 이하를 리턴하는 함수"
      ],
      "execution_count": null,
      "outputs": [
        {
          "output_type": "stream",
          "text": [
            "Help on method randint in module random:\n",
            "\n",
            "randint(a, b) method of random.Random instance\n",
            "    Return random integer in range [a, b], including both end points.\n",
            "\n"
          ],
          "name": "stdout"
        }
      ]
    },
    {
      "cell_type": "markdown",
      "metadata": {
        "id": "jQC3oxj55DDD"
      },
      "source": [
        "- [ : 이상\n",
        "- ] : 이하\n",
        "- ( : 초과\n",
        "- ) : 미만\n",
        "- 그렇다면 [1, 10) 은 무슨 뜻일까?\n",
        "  - 힌트: range(1,10) 이랑 똑같음!"
      ]
    },
    {
      "cell_type": "markdown",
      "metadata": {
        "id": "p7P7RCGu5YNP"
      },
      "source": [
        "# 사용자 정의 함수"
      ]
    },
    {
      "cell_type": "code",
      "metadata": {
        "id": "JDBIHoyT5G-B"
      },
      "source": [
        "def sum_numbers(a, b):\n",
        "  '''\n",
        "  두 정수 a, b 를 더해서 리턴한다.\n",
        "  '''\n",
        "  return a + b"
      ],
      "execution_count": null,
      "outputs": []
    },
    {
      "cell_type": "markdown",
      "metadata": {
        "id": "GnHdsGxt6aTq"
      },
      "source": [
        "### DocString\n",
        "- ''', \"\"\" 을 이용해서, 문서화 할 수 있다.\n",
        "- one-line, multi-line 다 가능!\n",
        "- DocString Convention:  https://www.python.org/dev/peps/pep-0257/"
      ]
    },
    {
      "cell_type": "code",
      "metadata": {
        "colab": {
          "base_uri": "https://localhost:8080/"
        },
        "id": "-26ilNNJ5w6j",
        "outputId": "7d99e717-ddd3-4f85-96f1-310b2cbb087d"
      },
      "source": [
        "print(sum_numbers(2,3))"
      ],
      "execution_count": null,
      "outputs": [
        {
          "output_type": "stream",
          "text": [
            "5\n"
          ],
          "name": "stdout"
        }
      ]
    },
    {
      "cell_type": "code",
      "metadata": {
        "colab": {
          "base_uri": "https://localhost:8080/"
        },
        "id": "giBmICzp50Yd",
        "outputId": "ec492e6a-b353-4f87-e540-dce16c09d99d"
      },
      "source": [
        "help(sum_numbers)"
      ],
      "execution_count": null,
      "outputs": [
        {
          "output_type": "stream",
          "text": [
            "Help on function sum_numbers in module __main__:\n",
            "\n",
            "sum_numbers(a, b)\n",
            "    두 정수 a, b 를 더해서 리턴한다.\n",
            "\n"
          ],
          "name": "stdout"
        }
      ]
    },
    {
      "cell_type": "markdown",
      "metadata": {
        "id": "Kn3m9hV_8GKC"
      },
      "source": [
        "## Q. 함수에는 매개변수가 있어도 되고 없어도 되나요?\n",
        "- A. 네!\n",
        "\n"
      ]
    },
    {
      "cell_type": "code",
      "metadata": {
        "id": "EETDZo2N8PN_"
      },
      "source": [
        "# 매개변수 없는 함수\n",
        "def print_hi():\n",
        "  print('hi')"
      ],
      "execution_count": null,
      "outputs": []
    },
    {
      "cell_type": "code",
      "metadata": {
        "id": "XxgXJW-_8Vu0"
      },
      "source": [
        "# 매개변수 있는 함수\n",
        "def print_hi_name(name):\n",
        "  print('hi ' + name)"
      ],
      "execution_count": null,
      "outputs": []
    },
    {
      "cell_type": "code",
      "metadata": {
        "id": "8R3Le54g8Y8b",
        "colab": {
          "base_uri": "https://localhost:8080/"
        },
        "outputId": "a3539d73-9a5c-492a-9cef-cd0920be646e"
      },
      "source": [
        "print_hi()\n",
        "print_hi_name('interface')"
      ],
      "execution_count": null,
      "outputs": [
        {
          "output_type": "stream",
          "text": [
            "hi\n",
            "hi interface\n"
          ],
          "name": "stdout"
        }
      ]
    },
    {
      "cell_type": "markdown",
      "metadata": {
        "id": "22ZUMUnW8eZM"
      },
      "source": [
        "## Q. 함수에서 리턴 값은 있어도 되고 없어도 되나요?\n",
        "- A. 네!\n",
        "\n"
      ]
    },
    {
      "cell_type": "markdown",
      "metadata": {
        "id": "vlZaXGmF87xB"
      },
      "source": [
        "**리턴값 없는 경우**"
      ]
    },
    {
      "cell_type": "code",
      "metadata": {
        "colab": {
          "base_uri": "https://localhost:8080/"
        },
        "id": "ozmOqsGC8nQN",
        "outputId": "7d155d73-028a-4859-ee1e-dc8d88e91b1d"
      },
      "source": [
        "help(print) # 설명 보면 리턴한다는 말 없음"
      ],
      "execution_count": null,
      "outputs": [
        {
          "output_type": "stream",
          "text": [
            "Help on built-in function print in module builtins:\n",
            "\n",
            "print(...)\n",
            "    print(value, ..., sep=' ', end='\\n', file=sys.stdout, flush=False)\n",
            "    \n",
            "    Prints the values to a stream, or to sys.stdout by default.\n",
            "    Optional keyword arguments:\n",
            "    file:  a file-like object (stream); defaults to the current sys.stdout.\n",
            "    sep:   string inserted between values, default a space.\n",
            "    end:   string appended after the last value, default a newline.\n",
            "    flush: whether to forcibly flush the stream.\n",
            "\n"
          ],
          "name": "stdout"
        }
      ]
    },
    {
      "cell_type": "code",
      "metadata": {
        "colab": {
          "base_uri": "https://localhost:8080/"
        },
        "id": "aKVJ2HcQ8h1u",
        "outputId": "c3b4491a-a211-43bd-ec11-07d54806b4b8"
      },
      "source": [
        "# return 값이 없는 함수는 None 을 리턴한다 (다른 언어에서 NULL과 동일)\n",
        "\n",
        "a = print('hi')\n",
        "print(a)"
      ],
      "execution_count": null,
      "outputs": [
        {
          "output_type": "stream",
          "text": [
            "hi\n",
            "None\n"
          ],
          "name": "stdout"
        }
      ]
    },
    {
      "cell_type": "markdown",
      "metadata": {
        "id": "aoIHUnnx9HkI"
      },
      "source": [
        "**리턴값 있는 경우**"
      ]
    },
    {
      "cell_type": "code",
      "metadata": {
        "colab": {
          "base_uri": "https://localhost:8080/"
        },
        "id": "51lyxs3M83r5",
        "outputId": "98ea3b5e-467d-4fc8-958f-cf88da2865fc"
      },
      "source": [
        "help(sum) # 설명 보면 리턴한다는 말 있음"
      ],
      "execution_count": null,
      "outputs": [
        {
          "output_type": "stream",
          "text": [
            "Help on built-in function sum in module builtins:\n",
            "\n",
            "sum(iterable, start=0, /)\n",
            "    Return the sum of a 'start' value (default: 0) plus an iterable of numbers\n",
            "    \n",
            "    When the iterable is empty, return the start value.\n",
            "    This function is intended specifically for use with numeric values and may\n",
            "    reject non-numeric types.\n",
            "\n"
          ],
          "name": "stdout"
        }
      ]
    },
    {
      "cell_type": "code",
      "metadata": {
        "colab": {
          "base_uri": "https://localhost:8080/"
        },
        "id": "OjtiezCC8uUx",
        "outputId": "c17c321b-c1ea-4ff9-dbeb-3c5e1b42a92d"
      },
      "source": [
        "# return 값이 있는 함수는 특정 값을 리턴한다 (ex. int, float, string,, 등등)\n",
        "b = sum([1,2,3])\n",
        "print(b)"
      ],
      "execution_count": null,
      "outputs": [
        {
          "output_type": "stream",
          "text": [
            "6\n"
          ],
          "name": "stdout"
        }
      ]
    }
  ]
}