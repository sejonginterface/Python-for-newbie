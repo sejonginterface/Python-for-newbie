{
 "cells": [
  {
   "cell_type": "markdown",
   "metadata": {},
   "source": [
    "### 리스트(list) & 튜플(tuple)\n",
    "   - 변수에 하나의 값만 저장 가능 -> 리스트는 복수의 값을 저장 가능\n",
    "   - 리스트(list)는 저장된 데이터가 변경 가능\n",
    "   - 튜플은 (tuple)은 변경이 불가능하다"
   ]
  },
  {
   "cell_type": "code",
   "execution_count": 7,
   "metadata": {
    "scrolled": false
   },
   "outputs": [
    {
     "name": "stdout",
     "output_type": "stream",
     "text": [
      "<class 'list'>\n",
      "<class 'list'>\n",
      "<class 'list'>\n"
     ]
    }
   ],
   "source": [
    "a = [] # 리스트 생성 방법 1\n",
    "b = list() # 리스트 생성 방법 2\n",
    "c = 'asdf'\n",
    "d = c.split('d')# 리스트 초기화 방법 3\n",
    "print(type(a))\n",
    "print(type(b))\n",
    "print(type(d))"
   ]
  },
  {
   "cell_type": "markdown",
   "metadata": {},
   "source": [
    "### 리스트 인덱싱\n",
    "   - 문자열 인덱싱과 동일하다\n",
    "   - 문자열과 다르게 리스트는 인덱스로 접근해서 수정이 가능하다"
   ]
  },
  {
   "cell_type": "code",
   "execution_count": 11,
   "metadata": {
    "scrolled": true
   },
   "outputs": [
    {
     "name": "stdout",
     "output_type": "stream",
     "text": [
      "interface\n",
      "화이팅\n"
     ]
    }
   ],
   "source": [
    "a = 'hello sejong interface 화이팅'\n",
    "b = a.split()\n",
    "print(b[2])\n",
    "print(b[-1])"
   ]
  },
  {
   "cell_type": "code",
   "execution_count": 13,
   "metadata": {},
   "outputs": [
    {
     "name": "stdout",
     "output_type": "stream",
     "text": [
      "안녕하세요\n"
     ]
    }
   ],
   "source": [
    "b[0] = '안녕하세요'\n",
    "print(b[0])"
   ]
  },
  {
   "cell_type": "markdown",
   "metadata": {},
   "source": [
    "### 리스트 슬라이싱\n",
    "   - 문자열 슬라이싱과 동일"
   ]
  },
  {
   "cell_type": "code",
   "execution_count": 15,
   "metadata": {
    "scrolled": false
   },
   "outputs": [
    {
     "name": "stdout",
     "output_type": "stream",
     "text": [
      "['안녕하세요', 'sejong', 'interface', '화이팅']\n",
      "['interface', '화이팅']\n"
     ]
    }
   ],
   "source": [
    "print(b[:])\n",
    "print(b[2:])"
   ]
  },
  {
   "cell_type": "markdown",
   "metadata": {},
   "source": [
    "### 리스트 함수\n",
    "   - 문자열과 같이 리스트내에 지원되는 함수들이 있다\n",
    "   - 더 공부를 하고 싶다면 [링크](https://dojang.io/mod/page/view.php?id=2281)"
   ]
  },
  {
   "cell_type": "code",
   "execution_count": 20,
   "metadata": {},
   "outputs": [
    {
     "name": "stdout",
     "output_type": "stream",
     "text": [
      "['hello', 'sejong', 'interface']\n"
     ]
    }
   ],
   "source": [
    "# append 함수 사용예\n",
    "a = [] \n",
    "a.append('hello')\n",
    "a.append('sejong')\n",
    "a.append('interface')\n",
    "print(a)"
   ]
  },
  {
   "cell_type": "code",
   "execution_count": 23,
   "metadata": {},
   "outputs": [
    {
     "name": "stdout",
     "output_type": "stream",
     "text": [
      "['hello', 'sejong', 'interface', '화이팅']\n",
      "['hello', 'sejong', 'interface', '화이팅', '화이팅']\n"
     ]
    }
   ],
   "source": [
    "# extend 함수 사용예\n",
    "a = ['hello', 'sejong', 'interface']\n",
    "b =['화이팅']\n",
    "a.extend(b)\n",
    "print(a)\n",
    "\n",
    "# extend 함수는 +=으로도 대체 가능하다\n",
    "a += b\n",
    "print(a)"
   ]
  },
  {
   "cell_type": "code",
   "execution_count": 25,
   "metadata": {
    "scrolled": true
   },
   "outputs": [
    {
     "name": "stdout",
     "output_type": "stream",
     "text": [
      "['hello', 'sejong', 'interface']\n"
     ]
    }
   ],
   "source": [
    "# insert 함수 사용예 insert(인덱스, 데이터)\n",
    "a = ['hello', 'interface']\n",
    "a.insert(1, 'sejong')\n",
    "print(a)"
   ]
  },
  {
   "cell_type": "code",
   "execution_count": 26,
   "metadata": {
    "scrolled": true
   },
   "outputs": [
    {
     "name": "stdout",
     "output_type": "stream",
     "text": [
      "['hello', 'sejong', 'interface']\n"
     ]
    }
   ],
   "source": [
    "# remove 함수 사용예 \n",
    "# remove는 삭제하고자하는 아이템을 직접 삭제\n",
    "a = ['hello', '공부하자','sejong', 'interface','좀 잘하자']\n",
    "a.remove('공부하자')\n",
    "a.remove('좀 잘하자')\n",
    "print(a)"
   ]
  },
  {
   "cell_type": "code",
   "execution_count": 34,
   "metadata": {
    "scrolled": true
   },
   "outputs": [
    {
     "name": "stdout",
     "output_type": "stream",
     "text": [
      "['hello', '공부하자', 'sejong', 'interface', '좀 잘하자']\n",
      "['hello', 'sejong', 'interface', '좀 잘하자']\n",
      "['hello', 'sejong', 'interface']\n",
      "공부하자\n",
      "좀 잘하자\n"
     ]
    }
   ],
   "source": [
    "# pop 함수 사용예\n",
    "# pop은 삭제하고자하는 인덱스를 알아야한다 그리고 해당 데이터를 반환\n",
    "a = ['hello', '공부하자','sejong', 'interface','좀 잘하자']\n",
    "print(a)\n",
    "b = a.pop(1)\n",
    "print(a)\n",
    "c = a.pop(3)\n",
    "print(a)\n",
    "print(b)\n",
    "print(c)"
   ]
  },
  {
   "cell_type": "code",
   "execution_count": 35,
   "metadata": {},
   "outputs": [
    {
     "name": "stdout",
     "output_type": "stream",
     "text": [
      "1\n"
     ]
    }
   ],
   "source": [
    "# index 함수 사용예\n",
    "# 찾고자 하는 데이터의 인덱스를 반환한다\n",
    "a = ['hello', '공부하자','sejong', 'interface','좀 잘하자']\n",
    "print(a.index('공부하자'))"
   ]
  },
  {
   "cell_type": "code",
   "execution_count": 37,
   "metadata": {},
   "outputs": [
    {
     "name": "stdout",
     "output_type": "stream",
     "text": [
      "True\n",
      "False\n"
     ]
    }
   ],
   "source": [
    "# in 키워드 \n",
    "# 해당 데이터가 리스트에 존재하는지 확인 True/False으로 반환\n",
    "a = ['hello', '공부하자','sejong', 'interface','좀 잘하자']\n",
    "b = '공부하자'\n",
    "c = '술 한잔 할까?'\n",
    "print(b in a)\n",
    "print(c in a)"
   ]
  },
  {
   "cell_type": "code",
   "execution_count": null,
   "metadata": {},
   "outputs": [],
   "source": []
  }
 ],
 "metadata": {
  "kernelspec": {
   "display_name": "Python 3",
   "language": "python",
   "name": "python3"
  },
  "language_info": {
   "codemirror_mode": {
    "name": "ipython",
    "version": 3
   },
   "file_extension": ".py",
   "mimetype": "text/x-python",
   "name": "python",
   "nbconvert_exporter": "python",
   "pygments_lexer": "ipython3",
   "version": "3.7.4"
  }
 },
 "nbformat": 4,
 "nbformat_minor": 2
}
