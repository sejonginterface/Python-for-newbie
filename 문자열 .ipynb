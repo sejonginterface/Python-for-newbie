{
 "cells": [
  {
   "cell_type": "markdown",
   "metadata": {},
   "source": [
    "### 문자열 사용 방법\n",
    "\n",
    "   - '' 과 \"\"의 차이 없음\n",
    "   - 단 문자열 안에 따음표를 삽입하고자 한다면 서로 다르게 구분한다 eg) 변수 f 확인\n",
    "   - ''' ''', 과 \"\"\" \"\"\"은 어러줄을 걸쳐서 문자열을 생성할 수 있다"
   ]
  },
  {
   "cell_type": "code",
   "execution_count": 5,
   "metadata": {
    "scrolled": true
   },
   "outputs": [
    {
     "name": "stdout",
     "output_type": "stream",
     "text": [
      "Hello world\n",
      "Hello world\n",
      "Hello World\n",
      "Hello World\n",
      "\"Hello World.\n",
      "\n",
      "\n",
      "It's a wonderful world\n",
      "Hello\n",
      "\n",
      "World\n",
      "hello 'hi '\n"
     ]
    }
   ],
   "source": [
    "a = 'Hello world'\n",
    "b = \"Hello world\"\n",
    "c = '''Hello World'''\n",
    "d = \"\"\"Hello World\"\"\"\n",
    "e = \"\"\"\"Hello World.\n",
    "\n",
    "\n",
    "It's a wonderful world\"\"\"\n",
    "f = '''Hello\n",
    "\n",
    "World'''\n",
    "\n",
    "g = \"hello 'hi '\"\n",
    "print(a)\n",
    "print(b)\n",
    "print(c)\n",
    "print(d)\n",
    "print(e)\n",
    "print(f)\n",
    "print(g)"
   ]
  },
  {
   "cell_type": "markdown",
   "metadata": {},
   "source": [
    "### escape 문자 \n",
    "   - 문자열 안에서 특정한 효과를 주기위한 문자 /뒤에 문자가 온다\n",
    "   - [코딩도장 확인](https://dojang.io/mod/page/view.php?id=2465\n",
    "   )"
   ]
  },
  {
   "cell_type": "code",
   "execution_count": 10,
   "metadata": {},
   "outputs": [
    {
     "name": "stdout",
     "output_type": "stream",
     "text": [
      "hello\thello\n"
     ]
    }
   ],
   "source": [
    "print('hello\\thello') # 들여쓰기 tab 효과"
   ]
  },
  {
   "cell_type": "code",
   "execution_count": 11,
   "metadata": {
    "scrolled": false
   },
   "outputs": [
    {
     "name": "stdout",
     "output_type": "stream",
     "text": [
      "hi\n",
      "hi\n"
     ]
    }
   ],
   "source": [
    "print('hi\\nhi') # 줄바꾸기 enter효과"
   ]
  },
  {
   "cell_type": "markdown",
   "metadata": {},
   "source": [
    "### 문자열 인덱싱\n",
    "   - 문자열의 시작은 0 끝은 길이-1\n",
    "   - 따라서 문자열의 범위는 [0, 문자열의 길이 -1]이다\n",
    "   - 문자열에서 특정 문자를 접근하기 위해서 **변수[인덱스]**의 형식을 사용한다 \n",
    "   - 파이썬의 경우 다른 언어와 달르게 음수 인덱스를 지원한다.\n",
    "   - 그래서 문자열의 범위는 [-문자열의 길이, -1이다]\n",
    "   - -1의 인덱스는 문자열의 마지막 문자를 가리킨다"
   ]
  },
  {
   "cell_type": "code",
   "execution_count": 16,
   "metadata": {
    "scrolled": true
   },
   "outputs": [
    {
     "name": "stdout",
     "output_type": "stream",
     "text": [
      "y\n",
      "S\n",
      "y\n"
     ]
    }
   ],
   "source": [
    "a = 'Sejong Interface Community'\n",
    "print(a[-1])\n",
    "print(a[0])\n",
    "print(a[len(a)-1])"
   ]
  },
  {
   "cell_type": "markdown",
   "metadata": {},
   "source": [
    "### 문자열 슬라이싱\n",
    "   - 슬라이싱은 문자열에서 어디서부터 어디까지의 문자열을 추출할 수 있다\n",
    "   - 형식은 **변수[시작:끝]**이다. -> **시작 인덱스**부터 **끝-1**인덱스까지의 문자열을 반환한다\n",
    "   - 변수[:]에서 콜론 사이"
   ]
  },
  {
   "cell_type": "code",
   "execution_count": 17,
   "metadata": {
    "scrolled": true
   },
   "outputs": [
    {
     "name": "stdout",
     "output_type": "stream",
     "text": [
      "Sejong Interface Community\n",
      "Sej\n",
      "jong Interface Community\n"
     ]
    }
   ],
   "source": [
    "a = 'Sejong Interface Community'\n",
    "print(a[:]) # 처음부터 끝까지\n",
    "print(a[:3]) # 처음부터 2번 인덱스까지\n",
    "print(a[2:]) # 2번부터 끝까지"
   ]
  },
  {
   "cell_type": "markdown",
   "metadata": {},
   "source": [
    "# 문자열 함수\n",
    "   - 파이썬에서 문자열내에 내장된 여러 함수를 지원해준다\n",
    "   - 추가적으로 문자열 메소드를 확인하고자 한다면 [링크](https://rfriend.tistory.com/327)"
   ]
  },
  {
   "cell_type": "code",
   "execution_count": 19,
   "metadata": {},
   "outputs": [
    {
     "name": "stdout",
     "output_type": "stream",
     "text": [
      "HELLO INTERFACE\n"
     ]
    }
   ],
   "source": [
    "a = 'hello interface'\n",
    "print(a.upper()) # 문자열을 모두 대문자로 바꿈"
   ]
  },
  {
   "cell_type": "code",
   "execution_count": 21,
   "metadata": {
    "scrolled": false
   },
   "outputs": [
    {
     "name": "stdout",
     "output_type": "stream",
     "text": [
      "goodbye interface\n"
     ]
    }
   ],
   "source": [
    "a = 'hello interface'\n",
    "print(a.replace('hello', 'goodbye')) # 특정 문자를 치환함"
   ]
  },
  {
   "cell_type": "code",
   "execution_count": 23,
   "metadata": {
    "scrolled": true
   },
   "outputs": [
    {
     "name": "stdout",
     "output_type": "stream",
     "text": [
      "hello sejong interface 화이팅!!\n"
     ]
    }
   ],
   "source": [
    "a = 'hello {} interface {}'\n",
    "print(a.format('sejong', '화이팅!!')) # 동적으로 문자열 생성"
   ]
  },
  {
   "cell_type": "code",
   "execution_count": 28,
   "metadata": {},
   "outputs": [
    {
     "data": {
      "text/plain": [
       "['hello', 'sejong', 'interface']"
      ]
     },
     "execution_count": 28,
     "metadata": {},
     "output_type": "execute_result"
    }
   ],
   "source": [
    "a = 'hello@sejong@interface'\n",
    "a.split('@') # 특정 문자를 제외"
   ]
  }
 ],
 "metadata": {
  "kernelspec": {
   "display_name": "Python 3",
   "language": "python",
   "name": "python3"
  },
  "language_info": {
   "codemirror_mode": {
    "name": "ipython",
    "version": 3
   },
   "file_extension": ".py",
   "mimetype": "text/x-python",
   "name": "python",
   "nbconvert_exporter": "python",
   "pygments_lexer": "ipython3",
   "version": "3.7.4"
  }
 },
 "nbformat": 4,
 "nbformat_minor": 2
}
